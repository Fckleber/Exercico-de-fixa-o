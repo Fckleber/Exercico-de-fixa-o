{
  "nbformat": 4,
  "nbformat_minor": 0,
  "metadata": {
    "colab": {
      "provenance": [],
      "authorship_tag": "ABX9TyP9vLVjkqnqg18dIyxGT5Gz"
    },
    "kernelspec": {
      "name": "python3",
      "display_name": "Python 3"
    },
    "language_info": {
      "name": "python"
    }
  },
  "cells": [
    {
      "cell_type": "code",
      "execution_count": null,
      "metadata": {
        "colab": {
          "base_uri": "https://localhost:8080/"
        },
        "id": "bVnQ5KZjyZvE",
        "outputId": "440678d2-898b-4eac-e529-cd13d4951b6b"
      },
      "outputs": [
        {
          "output_type": "stream",
          "name": "stdout",
          "text": [
            "insira a frase antiga: 10\n",
            "insira a pralava a ser substituida: 10\n",
            "insira a pralava nova: 15\n",
            "frase alterada:  15\n"
          ]
        }
      ],
      "source": [
        "#1. Escreva uma função que recebe uma frase e uma palavra antiga e uma palavra nova.\n",
        "#A função deve retornar uma string contendo a frase original, mas com a última ocorrência da palavra antiga substituída pela palavra nova.\n",
        "#A entrada e saída de dados deve ser feita no programa principal.\n",
        "\n",
        "def substituir(frase, palavra_an, palnova):\n",
        "  posicao = frase.rfind(palavra_an)\n",
        "\n",
        "  nova = frase[:posicao] + palnova + frase[posicao + len(palavra_an):]\n",
        "\n",
        "  return nova\n",
        "\n",
        "frase = input(\"insira a frase antiga: \")\n",
        "palavra_an = input(\"insira a pralava a ser substituida: \")\n",
        "palnova = input(\"insira a pralava nova: \")\n",
        "\n",
        "novafrase = substituir(frase, palavra_an, palnova)\n",
        "print(\"frase alterada: \", novafrase)"
      ]
    },
    {
      "cell_type": "code",
      "source": [
        "#2. Faça uma função que recebe uma frase e retorna o número de palavras que a frase contém.\n",
        "#Considere que a palavra pode começar e/ou terminar por espaços.\n",
        "#A entrada e saída de dados deve ser feita no programa principal.\n",
        "\n",
        "def cont_pal(frase):\n",
        "\n",
        "  palavra = frase.split()\n",
        "\n",
        "  return len(palavra)\n",
        "\n",
        "\n",
        "frase = input(\"Digite uma frase: \")\n",
        "num_palavras = cont_pal(frase)\n",
        "print(f\"A frase {frase} contém {num_palavras} palavras.\")\n"
      ],
      "metadata": {
        "colab": {
          "base_uri": "https://localhost:8080/"
        },
        "id": "xkJ1VNVD4fjq",
        "outputId": "d9902938-53f6-4f9c-9211-0fc64bb3cc57"
      },
      "execution_count": null,
      "outputs": [
        {
          "output_type": "stream",
          "name": "stdout",
          "text": [
            "Digite uma frase: terra oi\n",
            "A frase terra oi contém 2 palavras.\n"
          ]
        }
      ]
    },
    {
      "cell_type": "code",
      "source": [
        "#3. Faça uma função que recebe uma frase e substitui todas as ocorrências de espaço por “#”.\n",
        "#Faça também uma função para realizar a entrada de dados.\n",
        "#A saída de dados deve ser feita no programa principal.\n",
        "\n",
        "def hashtag(frase):\n",
        "  frasesub = frase.replace(\" \", \"#\")\n",
        "  return frasesub\n",
        "\n",
        "\n",
        "def entrada():\n",
        "  fraseopen = input(\"Insira uma frase: \")\n",
        "  return fraseopen\n",
        "\n",
        "\n",
        "\n",
        "#programa principal\n",
        "openfrase = entrada()\n",
        "frasesub2 = hashtag(openfrase)\n",
        "print(f\"{frasesub2} \")\n"
      ],
      "metadata": {
        "colab": {
          "base_uri": "https://localhost:8080/"
        },
        "id": "gMlPpfEVGYVy",
        "outputId": "0b05fe85-f09d-4f82-81ab-ebe1680ca30b"
      },
      "execution_count": 1,
      "outputs": [
        {
          "output_type": "stream",
          "name": "stdout",
          "text": [
            "Insira uma frase: terra dois\n",
            "terra#dois \n"
          ]
        }
      ]
    },
    {
      "cell_type": "code",
      "source": [
        "#4. Faça um programa que decida se duas strings lidas do teclado são palíndromas mútuas, ou seja,\n",
        "#se uma é igual à outra quando lida de traz para frente.\n",
        "#Exemplo: amor e roma.\n",
        "\n",
        "def palindromas(string1, string2):\n",
        "\n",
        "\n",
        "  return string1 == string2[::-1]\n",
        "\n",
        "\n",
        "\n",
        "string1 = input(\"Insira a primeira string: \")\n",
        "string2 = input(\"Insira a segunda string: \")\n",
        "\n",
        "if palindromas(string1, string2):\n",
        "  print(\"São palíndromas mútuas!\")\n",
        "else:\n",
        "  print(\"Não são palíndromas mútuas.\")\n"
      ],
      "metadata": {
        "colab": {
          "base_uri": "https://localhost:8080/"
        },
        "id": "UNRiGh-CJ5bz",
        "outputId": "c3bbb1f4-dc5a-4940-ba54-060d677f6441"
      },
      "execution_count": 2,
      "outputs": [
        {
          "output_type": "stream",
          "name": "stdout",
          "text": [
            "Insira a primeira string: amor\n",
            "Insira a segunda string: roma\n",
            "São palíndromas mútuas!\n"
          ]
        }
      ]
    },
    {
      "cell_type": "code",
      "source": [
        "#5. Faça um programa que leia o nome do usuário e mostre o nome de traz para frente, utilizando somente letras maiúsculas.\n",
        "\n",
        "def inverter(nome):\n",
        "  nome_inv = nome[::-1]\n",
        "  nome_upper = nome_inv.upper()\n",
        "  return nome_upper\n",
        "\n",
        "usuario = input(\"Digite o seu nome: \")\n",
        "nomein = inverter(usuario)\n",
        "print(f\"Seu nome é: {nomein}.\")\n"
      ],
      "metadata": {
        "id": "VLln_3_OLZYB",
        "colab": {
          "base_uri": "https://localhost:8080/"
        },
        "outputId": "ec20f79c-1734-4fdb-81d7-8f4ac596b622"
      },
      "execution_count": null,
      "outputs": [
        {
          "output_type": "stream",
          "name": "stdout",
          "text": [
            "Digite o seu nome: kleber\n",
            "Seu nome é: REBELK.\n"
          ]
        }
      ]
    },
    {
      "cell_type": "code",
      "source": [
        "#6. Faça um programa que leia o nome do usuário e o imprima na vertical, em forma de escada, usando apenas letras maiúsculas.\n",
        "\n",
        "def escada(nome):\n",
        "    nome_upper = nome.upper()\n",
        "    print(\"Seu nome imprimido na vertical é:\")\n",
        "    for i in range(len(nome_upper)):\n",
        "      print(nome_upper[:i + 1])\n",
        "\n",
        "\n",
        "nome_usuario = input(\"Digite o seu nome: \")\n",
        "escada(nome_usuario)"
      ],
      "metadata": {
        "colab": {
          "base_uri": "https://localhost:8080/"
        },
        "id": "FS1lwY26N1EB",
        "outputId": "a0c50458-f6ee-49a1-b81c-4412fe126063"
      },
      "execution_count": null,
      "outputs": [
        {
          "output_type": "stream",
          "name": "stdout",
          "text": [
            "Digite o seu nome: kleber\n",
            "Seu nome imprimido na vertical é:\n",
            "K\n",
            "KL\n",
            "KLE\n",
            "KLEB\n",
            "KLEBE\n",
            "KLEBER\n"
          ]
        }
      ]
    }
  ]
}